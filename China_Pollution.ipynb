{
 "cells": [
  {
   "cell_type": "markdown",
   "id": "fa86acc3",
   "metadata": {},
   "source": [
    "# Prediction of Air Quality in China "
   ]
  },
  {
   "cell_type": "markdown",
   "id": "f25f5d80",
   "metadata": {},
   "source": [
    "We have a dataset of multiple features which affect the amount of pollution in air: \\\n",
    "dew point (the temperature at which this condensation begins to happen)\\\n",
    "temperature\\\n",
    "pressure\\\n",
    "wind direction\\\n",
    "wind speed\\\n",
    "snow\\\n",
    "rain\\\n",
    "They are being recorded with a sampling rate of 1 hr, for 5 years.(2010-2015)\\\n",
    "We use this data to predict the air pollution content for the test data."
   ]
  },
  {
   "cell_type": "markdown",
   "id": "16256e8b",
   "metadata": {},
   "source": [
    "### Importing and Preprocessing"
   ]
  },
  {
   "cell_type": "code",
   "execution_count": 2,
   "id": "6e9082b8",
   "metadata": {},
   "outputs": [],
   "source": [
    "# Importing the required libraries\n",
    "\n",
    "import warnings\n",
    "warnings.filterwarnings('ignore')\n",
    "from matplotlib import pyplot as plt\n",
    "import numpy as np\n",
    "import pandas as pd\n",
    "\n",
    "df = pd.read_csv(\"China_poluttion.csv\")"
   ]
  },
  {
   "cell_type": "code",
   "execution_count": 3,
   "id": "3119a605",
   "metadata": {},
   "outputs": [
    {
     "data": {
      "text/html": [
       "<div>\n",
       "<style scoped>\n",
       "    .dataframe tbody tr th:only-of-type {\n",
       "        vertical-align: middle;\n",
       "    }\n",
       "\n",
       "    .dataframe tbody tr th {\n",
       "        vertical-align: top;\n",
       "    }\n",
       "\n",
       "    .dataframe thead th {\n",
       "        text-align: right;\n",
       "    }\n",
       "</style>\n",
       "<table border=\"1\" class=\"dataframe\">\n",
       "  <thead>\n",
       "    <tr style=\"text-align: right;\">\n",
       "      <th></th>\n",
       "      <th>date</th>\n",
       "      <th>pollution</th>\n",
       "      <th>dew</th>\n",
       "      <th>temp</th>\n",
       "      <th>press</th>\n",
       "      <th>wnd_dir</th>\n",
       "      <th>wnd_spd</th>\n",
       "      <th>snow</th>\n",
       "      <th>rain</th>\n",
       "    </tr>\n",
       "  </thead>\n",
       "  <tbody>\n",
       "    <tr>\n",
       "      <th>0</th>\n",
       "      <td>2010-01-02 00:00:00</td>\n",
       "      <td>129.0</td>\n",
       "      <td>-16</td>\n",
       "      <td>-4.0</td>\n",
       "      <td>1020.0</td>\n",
       "      <td>SE</td>\n",
       "      <td>1.79</td>\n",
       "      <td>0</td>\n",
       "      <td>0</td>\n",
       "    </tr>\n",
       "    <tr>\n",
       "      <th>1</th>\n",
       "      <td>2010-01-02 01:00:00</td>\n",
       "      <td>148.0</td>\n",
       "      <td>-15</td>\n",
       "      <td>-4.0</td>\n",
       "      <td>1020.0</td>\n",
       "      <td>SE</td>\n",
       "      <td>2.68</td>\n",
       "      <td>0</td>\n",
       "      <td>0</td>\n",
       "    </tr>\n",
       "    <tr>\n",
       "      <th>2</th>\n",
       "      <td>2010-01-02 02:00:00</td>\n",
       "      <td>159.0</td>\n",
       "      <td>-11</td>\n",
       "      <td>-5.0</td>\n",
       "      <td>1021.0</td>\n",
       "      <td>SE</td>\n",
       "      <td>3.57</td>\n",
       "      <td>0</td>\n",
       "      <td>0</td>\n",
       "    </tr>\n",
       "    <tr>\n",
       "      <th>3</th>\n",
       "      <td>2010-01-02 03:00:00</td>\n",
       "      <td>181.0</td>\n",
       "      <td>-7</td>\n",
       "      <td>-5.0</td>\n",
       "      <td>1022.0</td>\n",
       "      <td>SE</td>\n",
       "      <td>5.36</td>\n",
       "      <td>1</td>\n",
       "      <td>0</td>\n",
       "    </tr>\n",
       "    <tr>\n",
       "      <th>4</th>\n",
       "      <td>2010-01-02 04:00:00</td>\n",
       "      <td>138.0</td>\n",
       "      <td>-7</td>\n",
       "      <td>-5.0</td>\n",
       "      <td>1022.0</td>\n",
       "      <td>SE</td>\n",
       "      <td>6.25</td>\n",
       "      <td>2</td>\n",
       "      <td>0</td>\n",
       "    </tr>\n",
       "  </tbody>\n",
       "</table>\n",
       "</div>"
      ],
      "text/plain": [
       "                  date  pollution  dew  temp   press wnd_dir  wnd_spd  snow  \\\n",
       "0  2010-01-02 00:00:00      129.0  -16  -4.0  1020.0      SE     1.79     0   \n",
       "1  2010-01-02 01:00:00      148.0  -15  -4.0  1020.0      SE     2.68     0   \n",
       "2  2010-01-02 02:00:00      159.0  -11  -5.0  1021.0      SE     3.57     0   \n",
       "3  2010-01-02 03:00:00      181.0   -7  -5.0  1022.0      SE     5.36     1   \n",
       "4  2010-01-02 04:00:00      138.0   -7  -5.0  1022.0      SE     6.25     2   \n",
       "\n",
       "   rain  \n",
       "0     0  \n",
       "1     0  \n",
       "2     0  \n",
       "3     0  \n",
       "4     0  "
      ]
     },
     "execution_count": 3,
     "metadata": {},
     "output_type": "execute_result"
    }
   ],
   "source": [
    "df.head()"
   ]
  },
  {
   "cell_type": "code",
   "execution_count": 4,
   "id": "68ea2a10",
   "metadata": {},
   "outputs": [
    {
     "name": "stdout",
     "output_type": "stream",
     "text": [
      "                      date  pollution  dew  temp   press  wnd_spd  snow  rain  \\\n",
      "0      2010-01-02 00:00:00      129.0  -16  -4.0  1020.0     1.79     0     0   \n",
      "1      2010-01-02 01:00:00      148.0  -15  -4.0  1020.0     2.68     0     0   \n",
      "2      2010-01-02 02:00:00      159.0  -11  -5.0  1021.0     3.57     0     0   \n",
      "3      2010-01-02 03:00:00      181.0   -7  -5.0  1022.0     5.36     1     0   \n",
      "4      2010-01-02 04:00:00      138.0   -7  -5.0  1022.0     6.25     2     0   \n",
      "...                    ...        ...  ...   ...     ...      ...   ...   ...   \n",
      "43795  2014-12-31 19:00:00        8.0  -23  -2.0  1034.0   231.97     0     0   \n",
      "43796  2014-12-31 20:00:00       10.0  -22  -3.0  1034.0   237.78     0     0   \n",
      "43797  2014-12-31 21:00:00       10.0  -22  -3.0  1034.0   242.70     0     0   \n",
      "43798  2014-12-31 22:00:00        8.0  -22  -4.0  1034.0   246.72     0     0   \n",
      "43799  2014-12-31 23:00:00       12.0  -21  -3.0  1034.0   249.85     0     0   \n",
      "\n",
      "       wnd_dir_NE  wnd_dir_NW  wnd_dir_SE  wnd_dir_cv  \n",
      "0               0           0           1           0  \n",
      "1               0           0           1           0  \n",
      "2               0           0           1           0  \n",
      "3               0           0           1           0  \n",
      "4               0           0           1           0  \n",
      "...           ...         ...         ...         ...  \n",
      "43795           0           1           0           0  \n",
      "43796           0           1           0           0  \n",
      "43797           0           1           0           0  \n",
      "43798           0           1           0           0  \n",
      "43799           0           1           0           0  \n",
      "\n",
      "[43800 rows x 12 columns]\n"
     ]
    }
   ],
   "source": [
    "data = pd.get_dummies(df, columns = ['wnd_dir'])\n",
    "print(data)"
   ]
  },
  {
   "cell_type": "code",
   "execution_count": 5,
   "id": "1ba1ed47",
   "metadata": {},
   "outputs": [
    {
     "data": {
      "text/html": [
       "<div>\n",
       "<style scoped>\n",
       "    .dataframe tbody tr th:only-of-type {\n",
       "        vertical-align: middle;\n",
       "    }\n",
       "\n",
       "    .dataframe tbody tr th {\n",
       "        vertical-align: top;\n",
       "    }\n",
       "\n",
       "    .dataframe thead th {\n",
       "        text-align: right;\n",
       "    }\n",
       "</style>\n",
       "<table border=\"1\" class=\"dataframe\">\n",
       "  <thead>\n",
       "    <tr style=\"text-align: right;\">\n",
       "      <th></th>\n",
       "      <th>date</th>\n",
       "      <th>pollution</th>\n",
       "      <th>dew</th>\n",
       "      <th>temp</th>\n",
       "      <th>press</th>\n",
       "      <th>wnd_spd</th>\n",
       "      <th>snow</th>\n",
       "      <th>rain</th>\n",
       "      <th>wnd_dir_NE</th>\n",
       "      <th>wnd_dir_NW</th>\n",
       "      <th>wnd_dir_SE</th>\n",
       "      <th>wnd_dir_cv</th>\n",
       "    </tr>\n",
       "  </thead>\n",
       "  <tbody>\n",
       "    <tr>\n",
       "      <th>0</th>\n",
       "      <td>2010-01-02 00:00:00</td>\n",
       "      <td>129.0</td>\n",
       "      <td>-16</td>\n",
       "      <td>-4.0</td>\n",
       "      <td>1020.0</td>\n",
       "      <td>1.79</td>\n",
       "      <td>0</td>\n",
       "      <td>0</td>\n",
       "      <td>0</td>\n",
       "      <td>0</td>\n",
       "      <td>1</td>\n",
       "      <td>0</td>\n",
       "    </tr>\n",
       "    <tr>\n",
       "      <th>1</th>\n",
       "      <td>2010-01-02 01:00:00</td>\n",
       "      <td>148.0</td>\n",
       "      <td>-15</td>\n",
       "      <td>-4.0</td>\n",
       "      <td>1020.0</td>\n",
       "      <td>2.68</td>\n",
       "      <td>0</td>\n",
       "      <td>0</td>\n",
       "      <td>0</td>\n",
       "      <td>0</td>\n",
       "      <td>1</td>\n",
       "      <td>0</td>\n",
       "    </tr>\n",
       "    <tr>\n",
       "      <th>2</th>\n",
       "      <td>2010-01-02 02:00:00</td>\n",
       "      <td>159.0</td>\n",
       "      <td>-11</td>\n",
       "      <td>-5.0</td>\n",
       "      <td>1021.0</td>\n",
       "      <td>3.57</td>\n",
       "      <td>0</td>\n",
       "      <td>0</td>\n",
       "      <td>0</td>\n",
       "      <td>0</td>\n",
       "      <td>1</td>\n",
       "      <td>0</td>\n",
       "    </tr>\n",
       "    <tr>\n",
       "      <th>3</th>\n",
       "      <td>2010-01-02 03:00:00</td>\n",
       "      <td>181.0</td>\n",
       "      <td>-7</td>\n",
       "      <td>-5.0</td>\n",
       "      <td>1022.0</td>\n",
       "      <td>5.36</td>\n",
       "      <td>1</td>\n",
       "      <td>0</td>\n",
       "      <td>0</td>\n",
       "      <td>0</td>\n",
       "      <td>1</td>\n",
       "      <td>0</td>\n",
       "    </tr>\n",
       "    <tr>\n",
       "      <th>4</th>\n",
       "      <td>2010-01-02 04:00:00</td>\n",
       "      <td>138.0</td>\n",
       "      <td>-7</td>\n",
       "      <td>-5.0</td>\n",
       "      <td>1022.0</td>\n",
       "      <td>6.25</td>\n",
       "      <td>2</td>\n",
       "      <td>0</td>\n",
       "      <td>0</td>\n",
       "      <td>0</td>\n",
       "      <td>1</td>\n",
       "      <td>0</td>\n",
       "    </tr>\n",
       "  </tbody>\n",
       "</table>\n",
       "</div>"
      ],
      "text/plain": [
       "                  date  pollution  dew  temp   press  wnd_spd  snow  rain  \\\n",
       "0  2010-01-02 00:00:00      129.0  -16  -4.0  1020.0     1.79     0     0   \n",
       "1  2010-01-02 01:00:00      148.0  -15  -4.0  1020.0     2.68     0     0   \n",
       "2  2010-01-02 02:00:00      159.0  -11  -5.0  1021.0     3.57     0     0   \n",
       "3  2010-01-02 03:00:00      181.0   -7  -5.0  1022.0     5.36     1     0   \n",
       "4  2010-01-02 04:00:00      138.0   -7  -5.0  1022.0     6.25     2     0   \n",
       "\n",
       "   wnd_dir_NE  wnd_dir_NW  wnd_dir_SE  wnd_dir_cv  \n",
       "0           0           0           1           0  \n",
       "1           0           0           1           0  \n",
       "2           0           0           1           0  \n",
       "3           0           0           1           0  \n",
       "4           0           0           1           0  "
      ]
     },
     "execution_count": 5,
     "metadata": {},
     "output_type": "execute_result"
    }
   ],
   "source": [
    "data.head()"
   ]
  },
  {
   "cell_type": "code",
   "execution_count": 6,
   "id": "f2af2b1f",
   "metadata": {},
   "outputs": [
    {
     "name": "stdout",
     "output_type": "stream",
     "text": [
      "<class 'pandas.core.frame.DataFrame'>\n",
      "RangeIndex: 43800 entries, 0 to 43799\n",
      "Data columns (total 12 columns):\n",
      " #   Column      Non-Null Count  Dtype  \n",
      "---  ------      --------------  -----  \n",
      " 0   date        43800 non-null  object \n",
      " 1   pollution   43800 non-null  float64\n",
      " 2   dew         43800 non-null  int64  \n",
      " 3   temp        43800 non-null  float64\n",
      " 4   press       43800 non-null  float64\n",
      " 5   wnd_spd     43800 non-null  float64\n",
      " 6   snow        43800 non-null  int64  \n",
      " 7   rain        43800 non-null  int64  \n",
      " 8   wnd_dir_NE  43800 non-null  uint8  \n",
      " 9   wnd_dir_NW  43800 non-null  uint8  \n",
      " 10  wnd_dir_SE  43800 non-null  uint8  \n",
      " 11  wnd_dir_cv  43800 non-null  uint8  \n",
      "dtypes: float64(4), int64(3), object(1), uint8(4)\n",
      "memory usage: 2.8+ MB\n"
     ]
    }
   ],
   "source": [
    "data.info()"
   ]
  },
  {
   "cell_type": "code",
   "execution_count": 7,
   "id": "1c90f8e1",
   "metadata": {},
   "outputs": [],
   "source": [
    "new_data=data.set_index('date')"
   ]
  },
  {
   "cell_type": "code",
   "execution_count": 8,
   "id": "c762702f",
   "metadata": {},
   "outputs": [
    {
     "data": {
      "image/png": "[encoded data removed]",
      "text/plain": [
       "<Figure size 1440x504 with 1 Axes>"
      ]
     },
     "metadata": {
      "needs_background": "light"
     },
     "output_type": "display_data"
    }
   ],
   "source": [
    "fig = plt.figure(figsize = (20,7))\n",
    "plt.plot(df.pollution)\n",
    "plt.title(\"Polution across the time\", fontsize = 15)\n",
    "plt.show()"
   ]
  },
  {
   "cell_type": "code",
   "execution_count": 8,
   "id": "e7a9840e",
   "metadata": {},
   "outputs": [
    {
     "name": "stdout",
     "output_type": "stream",
     "text": [
      "<class 'pandas.core.frame.DataFrame'>\n",
      "Index: 43800 entries, 2010-01-02 00:00:00 to 2014-12-31 23:00:00\n",
      "Data columns (total 11 columns):\n",
      " #   Column      Non-Null Count  Dtype  \n",
      "---  ------      --------------  -----  \n",
      " 0   pollution   43800 non-null  float64\n",
      " 1   dew         43800 non-null  int64  \n",
      " 2   temp        43800 non-null  float64\n",
      " 3   press       43800 non-null  float64\n",
      " 4   wnd_spd     43800 non-null  float64\n",
      " 5   snow        43800 non-null  int64  \n",
      " 6   rain        43800 non-null  int64  \n",
      " 7   wnd_dir_NE  43800 non-null  uint8  \n",
      " 8   wnd_dir_NW  43800 non-null  uint8  \n",
      " 9   wnd_dir_SE  43800 non-null  uint8  \n",
      " 10  wnd_dir_cv  43800 non-null  uint8  \n",
      "dtypes: float64(4), int64(3), uint8(4)\n",
      "memory usage: 2.8+ MB\n"
     ]
    }
   ],
   "source": [
    "new_data.info()"
   ]
  },
  {
   "cell_type": "markdown",
   "id": "e85ee624",
   "metadata": {},
   "source": [
    "### LSTM Forecast"
   ]
  },
  {
   "cell_type": "code",
   "execution_count": 12,
   "id": "e8b770bd",
   "metadata": {},
   "outputs": [],
   "source": [
    "# Scale the data\n",
    "\n",
    "from sklearn.preprocessing import MinMaxScaler\n",
    "\n",
    "scaler_data = MinMaxScaler()\n",
    "pol_data = scaler_data.fit_transform(new_data)\n",
    "scaler_target = MinMaxScaler()\n",
    "target = scaler_target.fit_transform(np.array(new_data['pollution']).reshape(-1,1))"
   ]
  },
  {
   "cell_type": "code",
   "execution_count": 13,
   "id": "d831a79e",
   "metadata": {},
   "outputs": [],
   "source": [
    "#Split the data\n",
    "\n",
    "from torch import tensor\n",
    "sequence_len = 3  #history data length we consider for learning\n",
    "\n",
    "training_size = int(len(df)*0.8)\n",
    "data_train = tensor(pol_data[0:training_size]).float()\n",
    "target_train = tensor(target[1:training_size+1]).float() #building a model for one-step forecasting\n",
    "data_test = tensor(pol_data[training_size+1-sequence_len:-1]).float()\n",
    "target_test = np.array(new_data['pollution'])[training_size+1:]"
   ]
  },
  {
   "cell_type": "code",
   "execution_count": 14,
   "id": "05827347",
   "metadata": {},
   "outputs": [],
   "source": [
    "# Build the model:\n",
    "\n",
    "import torch.nn as nn\n",
    "from torch.optim import SGD\n",
    "\n",
    "lstm = nn.LSTM(input_size=new_data.shape[-1], hidden_size=1, batch_first=True)\n",
    "loss_function = nn.MSELoss()\n",
    "optimizer = SGD(lstm.parameters(), lr=0.1)\n",
    " \n",
    "epoch = 30\n",
    "num_seq = len(data_train) - sequence_len\n",
    "total_loss = []"
   ]
  },
  {
   "cell_type": "code",
   "execution_count": 15,
   "id": "fcfd7f98",
   "metadata": {},
   "outputs": [
    {
     "name": "stdout",
     "output_type": "stream",
     "text": [
      "0.005048745018933437\n",
      "0.000983716753154957\n",
      "0.0008880606452621563\n"
     ]
    }
   ],
   "source": [
    "# Train the model:\n",
    "\n",
    "for e in range(epoch):\n",
    "    epoch_loss = []\n",
    "    idx = np.random.choice(np.arange(num_seq),size=num_seq,replace=False) + sequence_len\n",
    "    for i in idx:\n",
    "        lstm.zero_grad()\n",
    "\n",
    "        data_in = data_train[i-sequence_len:i].unsqueeze(0)\n",
    "        data_out = target_train[i-sequence_len:i]\n",
    "\n",
    "        data_out_pred,hidden_out = lstm(data_in)\n",
    "\n",
    "        loss = loss_function(data_out_pred.squeeze(0), data_out)\n",
    "        epoch_loss.append(loss.detach().numpy())\n",
    "        loss.backward()\n",
    "        optimizer.step()\n",
    "    \n",
    "    total_loss.append(sum(epoch_loss) / len(epoch_loss))\n",
    "    if np.mod(e,10)==0:\n",
    "        print(total_loss[-1])"
   ]
  },
  {
   "cell_type": "code",
   "execution_count": 17,
   "id": "1752cb9b",
   "metadata": {},
   "outputs": [
    {
     "data": {
      "text/plain": [
       "[<matplotlib.lines.Line2D at 0x1de20ec7970>]"
      ]
     },
     "execution_count": 17,
     "metadata": {},
     "output_type": "execute_result"
    },
    {
     "data": {
      "image/png": "[encoded data removed]",
      "text/plain": [
       "<Figure size 432x288 with 1 Axes>"
      ]
     },
     "metadata": {
      "needs_background": "light"
     },
     "output_type": "display_data"
    }
   ],
   "source": [
    "plt.plot(total_loss)"
   ]
  },
  {
   "cell_type": "code",
   "execution_count": 19,
   "id": "cda379a0",
   "metadata": {},
   "outputs": [
    {
     "data": {
      "text/plain": [
       "[<matplotlib.lines.Line2D at 0x1de2105eb20>]"
      ]
     },
     "execution_count": 19,
     "metadata": {},
     "output_type": "execute_result"
    },
    {
     "data": {
      "image/png": "[encoded data removed]",
      "text/plain": [
       "<Figure size 432x288 with 1 Axes>"
      ]
     },
     "metadata": {
      "needs_background": "light"
     },
     "output_type": "display_data"
    }
   ],
   "source": [
    "# Test the model:\n",
    "\n",
    "from torch import no_grad\n",
    "\n",
    "target_pred = []\n",
    "for i,t in enumerate(target_test):\n",
    "    test_in = tensor(data_test[i:i+sequence_len]).float().unsqueeze(0)\n",
    "    lstm.eval()\n",
    "    with no_grad():\n",
    "        test_out,hidden_out = lstm(test_in)\n",
    "    target_pred.append(test_out.squeeze()[-1].detach().numpy())\n",
    "\n",
    "target_pred = scaler_target.inverse_transform(np.array(target_pred).reshape(-1,1))\n",
    "\n",
    "plt.figure()\n",
    "plt.plot(target_test)\n",
    "plt.plot(target_pred)"
   ]
  },
  {
   "cell_type": "code",
   "execution_count": 22,
   "id": "c3b58cf8",
   "metadata": {},
   "outputs": [
    {
     "data": {
      "text/plain": [
       "array([[25.140461],\n",
       "       [35.024723],\n",
       "       [40.791107],\n",
       "       ...,\n",
       "       [19.363182],\n",
       "       [19.23845 ],\n",
       "       [18.98116 ]], dtype=float32)"
      ]
     },
     "execution_count": 22,
     "metadata": {},
     "output_type": "execute_result"
    }
   ],
   "source": [
    "target_pred"
   ]
  },
  {
   "cell_type": "code",
   "execution_count": 20,
   "id": "5ddeef19",
   "metadata": {},
   "outputs": [],
   "source": [
    "# Creating a Function for MAPE\n",
    "import numpy as np\n",
    " \n",
    "def mape(y_test, pred):\n",
    "    y_test, pred = np.array(y_test), np.array(pred)\n",
    "    mape = np.mean(np.abs((y_test - pred) / y_test))\n",
    "    return mape"
   ]
  },
  {
   "cell_type": "code",
   "execution_count": 21,
   "id": "dd1ef2c5",
   "metadata": {},
   "outputs": [
    {
     "name": "stdout",
     "output_type": "stream",
     "text": [
      "inf\n"
     ]
    }
   ],
   "source": [
    "print(mape(target_test, target_pred))"
   ]
  },
  {
   "cell_type": "code",
   "execution_count": 23,
   "id": "d947bc1f",
   "metadata": {},
   "outputs": [
    {
     "name": "stdout",
     "output_type": "stream",
     "text": [
      "660.1786894445337\n",
      "25.69394266056756\n"
     ]
    }
   ],
   "source": [
    "import sklearn\n",
    "import sklearn.metrics\n",
    "from sklearn.metrics import mean_squared_error\n",
    "import math\n",
    "mse = sklearn.metrics.mean_squared_error(target_test, target_pred)\n",
    "\n",
    "rmse = math.sqrt(mse)\n",
    "print(mse)\n",
    "print(rmse)"
   ]
  },
  {
   "cell_type": "markdown",
   "id": "7433cfe4",
   "metadata": {},
   "source": [
    "### Conclusion:\n",
    "Model has short-comings:\n",
    "\n",
    "-the model has only one layer of lstm cell, looks like it is underfitting because the model may be too simple so we can build models with multiple layers or we can use more complex sequential networks than the vanilla LSTM\n",
    "\n",
    "-the model is only capable of one-step forecasts"
   ]
  },
  {
   "cell_type": "code",
   "execution_count": null,
   "id": "b8f977c7",
   "metadata": {},
   "outputs": [],
   "source": []
  }
 ],
 "metadata": {
  "kernelspec": {
   "display_name": "Python 3 (ipykernel)",
   "language": "python",
   "name": "python3"
  },
  "language_info": {
   "codemirror_mode": {
    "name": "ipython",
    "version": 3
   },
   "file_extension": ".py",
   "mimetype": "text/x-python",
   "name": "python",
   "nbconvert_exporter": "python",
   "pygments_lexer": "ipython3",
   "version": "3.9.7"
  }
 },
 "nbformat": 4,
 "nbformat_minor": 5
}
